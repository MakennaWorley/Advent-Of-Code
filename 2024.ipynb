{
 "cells": [
  {
   "metadata": {},
   "cell_type": "markdown",
   "source": "# Advent of Code 2024",
   "id": "8a77807f92f26ee"
  },
  {
   "metadata": {
    "ExecuteTime": {
     "end_time": "2024-12-04T01:21:35.709077Z",
     "start_time": "2024-12-04T01:21:35.706761Z"
    }
   },
   "cell_type": "code",
   "source": "from collections import Counter",
   "id": "7df9140457caed5e",
   "outputs": [],
   "execution_count": 27
  },
  {
   "metadata": {
    "collapsed": true,
    "ExecuteTime": {
     "end_time": "2024-12-04T01:21:35.725122Z",
     "start_time": "2024-12-04T01:21:35.720939Z"
    }
   },
   "cell_type": "code",
   "source": [
    "# day 1: puzzle 1\n",
    "list_1 = []\n",
    "list_2 = []\n",
    "difference = 0\n",
    "\n",
    "with open('day1_input.txt', 'r') as file:\n",
    "    for line in file:\n",
    "        parts = line.split()\n",
    "        if len(parts) == 2:\n",
    "            list_1.append(int(parts[0]))\n",
    "            list_2.append(int(parts[1]))\n",
    "\n",
    "    file.close()\n",
    "\n",
    "sorted_list_1 = sorted(list_1)\n",
    "sorted_list_2 = sorted(list_2)\n",
    "\n",
    "if len(sorted_list_1) == len(sorted_list_2):\n",
    "    for i in range(len(sorted_list_1)):\n",
    "        difference += abs(sorted_list_1[i] - sorted_list_2[i])\n",
    "\n",
    "print(difference)\n"
   ],
   "id": "initial_id",
   "outputs": [
    {
     "name": "stdout",
     "output_type": "stream",
     "text": [
      "1941353\n"
     ]
    }
   ],
   "execution_count": 28
  },
  {
   "metadata": {
    "ExecuteTime": {
     "end_time": "2024-12-04T01:21:35.755657Z",
     "start_time": "2024-12-04T01:21:35.751979Z"
    }
   },
   "cell_type": "code",
   "source": [
    "# day 1: puzzle 2\n",
    "list_1 = []\n",
    "list_2 = []\n",
    "similarity = 0\n",
    "\n",
    "with open('day1_input.txt', 'r') as file:\n",
    "    for line in file:\n",
    "        parts = line.split()\n",
    "        if len(parts) == 2:\n",
    "            list_1.append(int(parts[0]))\n",
    "            list_2.append(int(parts[1]))\n",
    "\n",
    "    file.close()\n",
    "\n",
    "list_2_dict = dict(Counter(list_2))\n",
    "\n",
    "for i in range(len(list_1)):\n",
    "    value = list_1[i]\n",
    "    similarity += (list_2_dict.get(value, 0) * value)\n",
    "\n",
    "print(similarity)\n"
   ],
   "id": "8d629f8419b0c9f5",
   "outputs": [
    {
     "name": "stdout",
     "output_type": "stream",
     "text": [
      "22539317\n"
     ]
    }
   ],
   "execution_count": 29
  },
  {
   "metadata": {
    "ExecuteTime": {
     "end_time": "2024-12-04T01:21:35.796947Z",
     "start_time": "2024-12-04T01:21:35.791671Z"
    }
   },
   "cell_type": "code",
   "source": [
    "# day 2: puzzle 1\n",
    "safe = 0\n",
    "\n",
    "def is_report_safe(head, tail, sign):\n",
    "    if not tail:\n",
    "        return True\n",
    "\n",
    "    new_head = int(tail.pop(0))\n",
    "\n",
    "    if sign is None:\n",
    "        if new_head < head:\n",
    "            sign = 'negative'\n",
    "        elif new_head > head:\n",
    "            sign = 'positive'\n",
    "        else:\n",
    "            return False\n",
    "\n",
    "    match sign:\n",
    "        case 'positive':\n",
    "            if (head + 3) >= new_head >= (head + 1):\n",
    "                return is_report_safe(new_head, tail, sign)\n",
    "            else:\n",
    "                return False\n",
    "        case 'negative':\n",
    "            if (head - 3) <= new_head <= (head - 1):\n",
    "                return is_report_safe(new_head, tail, sign)\n",
    "            else:\n",
    "                return False\n",
    "\n",
    "\n",
    "with open('day2_input.txt', 'r') as file:\n",
    "    for line in file:\n",
    "        parts = line.split()\n",
    "        parts = [int(x) for x in parts]\n",
    "\n",
    "        head = parts.pop(0)\n",
    "        tail = parts\n",
    "        sign = None\n",
    "\n",
    "        if is_report_safe(head, tail, sign):\n",
    "            safe += 1\n",
    "\n",
    "    file.close()\n",
    "\n",
    "print(safe)\n"
   ],
   "id": "2c21ead739e0c6ec",
   "outputs": [
    {
     "name": "stdout",
     "output_type": "stream",
     "text": [
      "624\n"
     ]
    }
   ],
   "execution_count": 30
  },
  {
   "metadata": {
    "ExecuteTime": {
     "end_time": "2024-12-04T01:21:35.824528Z",
     "start_time": "2024-12-04T01:21:35.818458Z"
    }
   },
   "cell_type": "code",
   "source": [
    "# day 2: puzzle 2 not working\n",
    "safe = 0\n",
    "\n",
    "def is_report_safe(head, tail, sign):\n",
    "    if not tail:\n",
    "        return True\n",
    "\n",
    "    new_head = tail.pop(0)\n",
    "\n",
    "    if sign is None:\n",
    "        if new_head < head:\n",
    "            sign = 'negative'\n",
    "        elif new_head > head:\n",
    "            sign = 'positive'\n",
    "        else:\n",
    "            return False\n",
    "\n",
    "    match sign:\n",
    "        case 'positive':\n",
    "            if (head + 3) >= new_head >= (head + 1):\n",
    "                return is_report_safe(new_head, tail, sign)\n",
    "            else:\n",
    "                return False\n",
    "        case 'negative':\n",
    "            if (head - 3) <= new_head <= (head - 1):\n",
    "                return is_report_safe(new_head, tail, sign)\n",
    "            else:\n",
    "                return False\n",
    "\n",
    "\n",
    "def is_removed_report_safe(line):\n",
    "    for i in range(len(line)):\n",
    "        modified_line = line[:i] + line[i + 1:]\n",
    "\n",
    "        head = modified_line[0]\n",
    "        tail = modified_line[1:]\n",
    "\n",
    "        if is_report_safe(head, tail, None):\n",
    "            return True\n",
    "    return False\n",
    "\n",
    "\n",
    "with open('day2_input.txt', 'r') as file:\n",
    "    for line in file:\n",
    "        parts = line.strip().split()\n",
    "        parts = [int(x) for x in parts]\n",
    "\n",
    "        parts_2 = parts.copy()\n",
    "\n",
    "        head = int(parts.pop(0))\n",
    "        tail = parts\n",
    "        sign = None\n",
    "\n",
    "        if is_report_safe(head, tail, sign) or is_removed_report_safe(parts_2):\n",
    "            safe += 1\n",
    "    file.close()\n",
    "\n",
    "print(safe)\n"
   ],
   "id": "56983390ebd013d1",
   "outputs": [
    {
     "name": "stdout",
     "output_type": "stream",
     "text": [
      "658\n"
     ]
    }
   ],
   "execution_count": 31
  },
  {
   "metadata": {
    "ExecuteTime": {
     "end_time": "2024-12-04T01:21:35.844789Z",
     "start_time": "2024-12-04T01:21:35.840649Z"
    }
   },
   "cell_type": "code",
   "source": [
    "# day 3: puzzle 1\n",
    "import re\n",
    "\n",
    "total = 0\n",
    "\n",
    "file = open('day3_input.txt', 'r')\n",
    "data = file.read()\n",
    "file.close()\n",
    "\n",
    "for expr in re.findall(r\"mul\\(\\d+,\\d+\\)\", data):\n",
    "    L, R = re.findall(r\"\\d+\", expr)\n",
    "    total += int(L) * int(R)\n",
    "\n",
    "print(total)"
   ],
   "id": "783de5decb667f5",
   "outputs": [
    {
     "name": "stdout",
     "output_type": "stream",
     "text": [
      "157621318\n"
     ]
    }
   ],
   "execution_count": 32
  },
  {
   "metadata": {
    "ExecuteTime": {
     "end_time": "2024-12-04T01:21:35.863765Z",
     "start_time": "2024-12-04T01:21:35.860424Z"
    }
   },
   "cell_type": "code",
   "source": [
    "# day 3: puzzle 2\n",
    "total = 0\n",
    "process = True\n",
    "\n",
    "file = open('day3_input.txt', 'r')\n",
    "data = file.read()\n",
    "file.close()\n",
    "\n",
    "for expr in re.findall(r\"(don\\'t\\(\\)|do\\(\\)|mul\\(\\d+,\\d+\\))\", data):\n",
    "    if expr == \"don't()\":\n",
    "        process = False\n",
    "    elif expr == \"do()\":\n",
    "        process = True\n",
    "    elif process:\n",
    "        L, R = re.findall(r\"\\d+\", expr)\n",
    "        total += int(L) * int(R)\n",
    "\n",
    "print(total)"
   ],
   "id": "87ef61153fe5e28a",
   "outputs": [
    {
     "name": "stdout",
     "output_type": "stream",
     "text": [
      "79845780\n"
     ]
    }
   ],
   "execution_count": 33
  }
 ],
 "metadata": {
  "kernelspec": {
   "display_name": "Python 3",
   "language": "python",
   "name": "python3"
  },
  "language_info": {
   "codemirror_mode": {
    "name": "ipython",
    "version": 2
   },
   "file_extension": ".py",
   "mimetype": "text/x-python",
   "name": "python",
   "nbconvert_exporter": "python",
   "pygments_lexer": "ipython2",
   "version": "2.7.6"
  }
 },
 "nbformat": 4,
 "nbformat_minor": 5
}
